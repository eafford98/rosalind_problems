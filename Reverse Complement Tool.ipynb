{
 "cells": [
  {
   "cell_type": "code",
   "execution_count": 25,
   "id": "8d1393ec",
   "metadata": {},
   "outputs": [],
   "source": [
    "# Insert the DNA sequence you want to be reverse complemented below:\n",
    "forward = \"\""
   ]
  },
  {
   "cell_type": "code",
   "execution_count": 26,
   "id": "544b7d56",
   "metadata": {},
   "outputs": [
    {
     "data": {
      "text/plain": [
       "''"
      ]
     },
     "execution_count": 26,
     "metadata": {},
     "output_type": "execute_result"
    }
   ],
   "source": [
    "# Attains the complementary sequence by swapping a base to its corresponding base.\n",
    "\n",
    "complement = \"\"\n",
    "for base in forward:\n",
    "    if base == \"A\":\n",
    "        complement += \"T\"\n",
    "    elif base == \"T\":\n",
    "        complement += \"A\"\n",
    "    elif base == \"G\":\n",
    "        complement += \"C\"\n",
    "    elif base == \"C\":\n",
    "        complement += \"G\"\n",
    "\n",
    "# Reverses the complementary sequence by slicing the string. Start, stop, step syntax: -1 iterates though the string\n",
    "# backwards\n",
    "complement[::-1]"
   ]
  },
  {
   "cell_type": "code",
   "execution_count": null,
   "id": "1a1e2212",
   "metadata": {},
   "outputs": [],
   "source": []
  }
 ],
 "metadata": {
  "kernelspec": {
   "display_name": "Python 3 (ipykernel)",
   "language": "python",
   "name": "python3"
  },
  "language_info": {
   "codemirror_mode": {
    "name": "ipython",
    "version": 3
   },
   "file_extension": ".py",
   "mimetype": "text/x-python",
   "name": "python",
   "nbconvert_exporter": "python",
   "pygments_lexer": "ipython3",
   "version": "3.9.7"
  }
 },
 "nbformat": 4,
 "nbformat_minor": 5
}

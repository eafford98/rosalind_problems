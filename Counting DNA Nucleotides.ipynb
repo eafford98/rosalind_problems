{
 "cells": [
  {
   "cell_type": "code",
   "execution_count": 3,
   "id": "1d3f3f55",
   "metadata": {},
   "outputs": [],
   "source": [
    "DNA_string = \"GTATTGCTATAAAATGGCATTCCCTACTTCGGCAGCATGTCCATGGCTAGTCATGGAGTACGAGACAGAAAAATGTAAGCGTAATATCCATTGACCTTCACTGCACCCATAGAGGGCGTCGTGCGCAAGAGGCTAATTTCCGGTCGCTTTCCCACCGGGCCATCATCAAAAATGTACGGTGGACCTTTACCCGTTTCTTGTGAGTTACTTACCGTTTGTAGCTAGTGATCTTGGCGTCCCCATCGTGTTCTCTCAAGTGCGGCTTCTTACCTCCTTTAGAAGCCGATTACTCAGAGAACACCTCTTGGAGGGAAAAATCTAACGGTAAGAGCGGGAGGGTAGGAGTCAGACTCTAACATAGGACGATCCGACAGAGATAGGAGCTGTCATGTCCCGGGAGTGGACTAGTCTTATACCGCACCTGTTCGGGGTGGTCTCAGTCTTTGGGCGCTGTGCGGCCTCCCGGTGGTTGGTCCTCCGTTAAGCTGGTGCGAACTGATTTTGACAATACCCTCTACGTTAGCTCACAAGTACGCCAAGTACACAGGCCGAATTCCACATCTGTCATTACACCCTGGGGCTACTGGGCGAGGTTGACGGACCACCTGCCCTCATTAGGTATCATCCTTACCATTTGGTCCAAAAAAGTCCCTTGATTGACGTTCTTTGTGCGGATGCTTACCCCTGGCGACCAAAAGACATACACCAGCATTATTGCCTGACATGGCGCGCAGCCAGGCCGATGGTGGTTCGTCCATCTTAAGGCAGCCGCAATTTACCATCGTATCCACCTCCAGGTGCTGATACAGGACGTACCCAAGGGGTGAGCGCCAGTCATATTTTGCCACA\""
   ]
  },
  {
   "cell_type": "code",
   "execution_count": 4,
   "id": "6a3b5d6d",
   "metadata": {},
   "outputs": [],
   "source": [
    "A = 0\n",
    "C = 0\n",
    "G = 0\n",
    "T = 0"
   ]
  },
  {
   "cell_type": "code",
   "execution_count": 5,
   "id": "8ea90afb",
   "metadata": {},
   "outputs": [
    {
     "name": "stdout",
     "output_type": "stream",
     "text": [
      "196\n",
      "225\n",
      "212\n",
      "216\n"
     ]
    }
   ],
   "source": [
    "for base in DNA_string:\n",
    "    if base == \"A\":\n",
    "        A += 1\n",
    "    elif base == \"C\":\n",
    "        C += 1\n",
    "    elif base == \"G\":\n",
    "        G += 1\n",
    "    elif base == \"T\":\n",
    "        T += 1\n",
    "print(\"A = \"A)\n",
    "print(C)\n",
    "print(G)\n",
    "print(T)"
   ]
  },
  {
   "cell_type": "code",
   "execution_count": null,
   "id": "44f5061c",
   "metadata": {},
   "outputs": [],
   "source": []
  }
 ],
 "metadata": {
  "kernelspec": {
   "display_name": "Python 3 (ipykernel)",
   "language": "python",
   "name": "python3"
  },
  "language_info": {
   "codemirror_mode": {
    "name": "ipython",
    "version": 3
   },
   "file_extension": ".py",
   "mimetype": "text/x-python",
   "name": "python",
   "nbconvert_exporter": "python",
   "pygments_lexer": "ipython3",
   "version": "3.9.7"
  }
 },
 "nbformat": 4,
 "nbformat_minor": 5
}
